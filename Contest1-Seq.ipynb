{
 "cells": [
  {
   "cell_type": "code",
   "execution_count": 1,
   "metadata": {},
   "outputs": [],
   "source": [
    "%matplotlib inline\n",
    "import pandas as pd\n",
    "import re\n",
    "import os, itertools, csv\n",
    "import bleach\n",
    "import progressbar\n",
    "from bs4 import BeautifulSoup\n",
    "from datetime import datetime\n",
    "import numpy as np\n",
    "import nltk\n",
    "from nltk.corpus import stopwords\n",
    "from nltk.stem.porter import PorterStemmer\n",
    "from sklearn.base import TransformerMixin, BaseEstimator\n",
    "from sklearn.pipeline import Pipeline\n",
    "from sklearn.tree import DecisionTreeClassifier\n",
    "from sklearn.linear_model import LogisticRegression\n",
    "from sklearn.svm import SVC\n",
    "from sklearn.model_selection import train_test_split, cross_val_score\n",
    "from sklearn.preprocessing import StandardScaler, LabelEncoder\n",
    "from sklearn.neighbors import KNeighborsClassifier\n",
    "from sklearn.ensemble import AdaBoostClassifier,RandomForestClassifier, VotingClassifier, VotingRegressor\n",
    "from sklearn.feature_extraction.text import CountVectorizer, TfidfVectorizer, HashingVectorizer\n",
    "from sklearn.metrics import accuracy_score, auc, confusion_matrix, roc_curve\n",
    "from sklearn.impute import SimpleImputer"
   ]
  },
  {
   "cell_type": "code",
   "execution_count": 2,
   "metadata": {},
   "outputs": [
    {
     "name": "stdout",
     "output_type": "stream",
     "text": [
      "   Id  Popularity                                       Page content\n",
      "0   0          -1  <html><head><div class=\"article-info\"> <span c...\n",
      "1   1           1  <html><head><div class=\"article-info\"><span cl...\n",
      "2   2           1  <html><head><div class=\"article-info\"><span cl...\n",
      "3   3          -1  <html><head><div class=\"article-info\"><span cl...\n",
      "4   4          -1  <html><head><div class=\"article-info\"><span cl...\n"
     ]
    }
   ],
   "source": [
    "df = pd.read_csv('./contest1_data/train.csv')\n",
    "print(df.head(5))"
   ]
  },
  {
   "cell_type": "markdown",
   "metadata": {},
   "source": [
    "## Data Preprocessing"
   ]
  },
  {
   "cell_type": "markdown",
   "metadata": {},
   "source": [
    "- two model\n",
    "    - one is title's word2vec\n",
    "    - one is other features like datachannel, tag or sth (0.57's model)"
   ]
  },
  {
   "cell_type": "code",
   "execution_count": 3,
   "metadata": {},
   "outputs": [],
   "source": [
    "def data_preprocess(text):\n",
    "    bs = BeautifulSoup(text, 'html.parser')\n",
    "    title = bs.find(class_=\"title\").text\n",
    "    content = bs.find(class_=\"article-content\").text\n",
    "    channel = bs.find(\"article\")[\"data-channel\"]\n",
    "    tag = bs.find(class_=\"article-topics\").text\n",
    "    match = re.compile('Topics:')\n",
    "    tag = match.sub(r' ', tag)\n",
    "    fig_count = len(bs.find_all('img'))\n",
    "    link_count = len(bs.find_all('a'))\n",
    "    time = bs.find('time')['datetime']\n",
    "    time = datetime.strptime(time, '%a, %d %b %Y %H:%M:%S %z')\n",
    "    weekday = time.weekday()\n",
    "    timestamp = time.timestamp()\n",
    "#     print(title)\n",
    "#     print(content)\n",
    "#     print(\"channel\", channel)\n",
    "#     print(\"tag\",tag)\n",
    "    return title, content, tag, channel, fig_count, link_count, weekday, timestamp\n",
    "\n",
    "# data_preprocess(df.loc[0,'Page content'])"
   ]
  },
  {
   "cell_type": "code",
   "execution_count": 4,
   "metadata": {},
   "outputs": [
    {
     "name": "stderr",
     "output_type": "stream",
     "text": [
      "Progress: 100% |#################################################|Time: 0:03:49\n"
     ]
    },
    {
     "data": {
      "text/html": [
       "<div>\n",
       "<style scoped>\n",
       "    .dataframe tbody tr th:only-of-type {\n",
       "        vertical-align: middle;\n",
       "    }\n",
       "\n",
       "    .dataframe tbody tr th {\n",
       "        vertical-align: top;\n",
       "    }\n",
       "\n",
       "    .dataframe thead th {\n",
       "        text-align: right;\n",
       "    }\n",
       "</style>\n",
       "<table border=\"1\" class=\"dataframe\">\n",
       "  <thead>\n",
       "    <tr style=\"text-align: right;\">\n",
       "      <th></th>\n",
       "      <th>title</th>\n",
       "      <th>content</th>\n",
       "      <th>tag</th>\n",
       "      <th>channel</th>\n",
       "      <th>fig_count</th>\n",
       "      <th>link_count</th>\n",
       "      <th>weekday</th>\n",
       "      <th>timestamp</th>\n",
       "    </tr>\n",
       "  </thead>\n",
       "  <tbody>\n",
       "    <tr>\n",
       "      <th>0</th>\n",
       "      <td>NASA's Grand Challenge: Stop Asteroids From De...</td>\n",
       "      <td>There may be killer asteroids headed for Eart...</td>\n",
       "      <td>Asteroid, Asteroids, challenge, Earth, Spac...</td>\n",
       "      <td>world</td>\n",
       "      <td>1</td>\n",
       "      <td>22</td>\n",
       "      <td>2</td>\n",
       "      <td>1.371654e+09</td>\n",
       "    </tr>\n",
       "    <tr>\n",
       "      <th>1</th>\n",
       "      <td>Google's New Open Source Patent Pledge: We Won...</td>\n",
       "      <td>Google took a stand of sorts against patent-l...</td>\n",
       "      <td>Apps and Software, Google, open source, opn...</td>\n",
       "      <td>tech</td>\n",
       "      <td>2</td>\n",
       "      <td>18</td>\n",
       "      <td>3</td>\n",
       "      <td>1.364492e+09</td>\n",
       "    </tr>\n",
       "    <tr>\n",
       "      <th>2</th>\n",
       "      <td>Ballin': 2014 NFL Draft Picks Get to Choose Th...</td>\n",
       "      <td>You've spend countless hours training to be a...</td>\n",
       "      <td>Entertainment, NFL, NFL Draft, Sports, Tele...</td>\n",
       "      <td>entertainment</td>\n",
       "      <td>2</td>\n",
       "      <td>11</td>\n",
       "      <td>2</td>\n",
       "      <td>1.399490e+09</td>\n",
       "    </tr>\n",
       "    <tr>\n",
       "      <th>3</th>\n",
       "      <td>Cameraperson Fails Deliver Slapstick Laughs</td>\n",
       "      <td>Tired of the same old sports fails and ne...</td>\n",
       "      <td>Sports, Video, Videos, Watercooler</td>\n",
       "      <td>watercooler</td>\n",
       "      <td>1</td>\n",
       "      <td>13</td>\n",
       "      <td>4</td>\n",
       "      <td>1.381458e+09</td>\n",
       "    </tr>\n",
       "    <tr>\n",
       "      <th>4</th>\n",
       "      <td>NFL Star Helps Young Fan Prove Friendship With...</td>\n",
       "      <td>At 6-foot-5 and 298 pounds, All-Pro NFL star ...</td>\n",
       "      <td>Entertainment, instagram, instagram video, ...</td>\n",
       "      <td>entertainment</td>\n",
       "      <td>52</td>\n",
       "      <td>16</td>\n",
       "      <td>3</td>\n",
       "      <td>1.397706e+09</td>\n",
       "    </tr>\n",
       "  </tbody>\n",
       "</table>\n",
       "</div>"
      ],
      "text/plain": [
       "                                               title  \\\n",
       "0  NASA's Grand Challenge: Stop Asteroids From De...   \n",
       "1  Google's New Open Source Patent Pledge: We Won...   \n",
       "2  Ballin': 2014 NFL Draft Picks Get to Choose Th...   \n",
       "3        Cameraperson Fails Deliver Slapstick Laughs   \n",
       "4  NFL Star Helps Young Fan Prove Friendship With...   \n",
       "\n",
       "                                             content  \\\n",
       "0   There may be killer asteroids headed for Eart...   \n",
       "1   Google took a stand of sorts against patent-l...   \n",
       "2   You've spend countless hours training to be a...   \n",
       "3       Tired of the same old sports fails and ne...   \n",
       "4   At 6-foot-5 and 298 pounds, All-Pro NFL star ...   \n",
       "\n",
       "                                                 tag        channel fig_count  \\\n",
       "0     Asteroid, Asteroids, challenge, Earth, Spac...          world         1   \n",
       "1     Apps and Software, Google, open source, opn...           tech         2   \n",
       "2     Entertainment, NFL, NFL Draft, Sports, Tele...  entertainment         2   \n",
       "3                Sports, Video, Videos, Watercooler     watercooler         1   \n",
       "4     Entertainment, instagram, instagram video, ...  entertainment        52   \n",
       "\n",
       "  link_count weekday     timestamp  \n",
       "0         22       2  1.371654e+09  \n",
       "1         18       3  1.364492e+09  \n",
       "2         11       2  1.399490e+09  \n",
       "3         13       4  1.381458e+09  \n",
       "4         16       3  1.397706e+09  "
      ]
     },
     "execution_count": 4,
     "metadata": {},
     "output_type": "execute_result"
    }
   ],
   "source": [
    "# for train data\n",
    "# df_small = df.sample(n=100, random_state=0)\n",
    "\n",
    "train_data = pd.DataFrame(columns=[\"title\", \"content\", \"tag\", \"channel\", \"fig_count\", \"link_count\", \"weekday\",\"timestamp\"])\n",
    "train_label = pd.DataFrame(columns=[\"Popularity\"])\n",
    "pgbar = progressbar.ProgressBar(widgets=['Progress: ',progressbar.Percentage(), ' ', progressbar.Bar('#'), progressbar.ETA()])\n",
    "for i in pgbar(range(len(df))):\n",
    "    title, content, tag, channel,  fig_count, link_count, weekday, timestamp = data_preprocess(df.loc[i,'Page content'])\n",
    "    train_data = train_data.append({ \n",
    "                                    \"title\": title, \n",
    "                                    \"content\": content,\n",
    "                                    \"tag\":  tag,\n",
    "                                    \"channel\": channel, \n",
    "                                    \"fig_count\":  fig_count,\n",
    "                                    \"link_count\":  link_count,\n",
    "                                    \"weekday\":  weekday,\n",
    "                                    \"timestamp\":  timestamp\n",
    "                                    }, ignore_index=True)\n",
    "    train_label = train_label.append({ \"Popularity\": df.loc[i, \"Popularity\"]}, ignore_index=True)\n",
    "    \n",
    "train_data.head()\n",
    "\n",
    "\n",
    "# print(y_train[:,0])\n",
    "# print(y_train[:,'Popularity'])\n"
   ]
  },
  {
   "cell_type": "code",
   "execution_count": 5,
   "metadata": {},
   "outputs": [],
   "source": [
    "label_le = LabelEncoder()\n",
    "train_data[\"channel\"] = label_le.fit_transform(train_data[\"channel\"].values)\n",
    "\n",
    "X_train, X_test, y_train, y_test = train_test_split(train_data, train_label['Popularity'].astype('int'), test_size=0.2, random_state=0)\n",
    "# print(X_train)\n",
    "# print(y_train)\n",
    "tmp_X = X_train\n",
    "tmp_y = y_train"
   ]
  },
  {
   "cell_type": "markdown",
   "metadata": {},
   "source": [
    "## Features Engineering "
   ]
  },
  {
   "cell_type": "code",
   "execution_count": 6,
   "metadata": {},
   "outputs": [
    {
     "name": "stderr",
     "output_type": "stream",
     "text": [
      "[nltk_data] Downloading package stopwords to /home/hhliao/nltk_data...\n",
      "[nltk_data]   Package stopwords is already up-to-date!\n"
     ]
    }
   ],
   "source": [
    "nltk.download('stopwords')\n",
    "stop = stopwords.words('english')\n",
    "\n",
    "def preprocessor(text):\n",
    "    # remove HTML tags\n",
    "#     print(\"text type = \", type(text))\n",
    "#     print(\"text  = \", text)\n",
    "    text = text[0]\n",
    "#     print(\"text  = \", text)\n",
    "#     text = BeautifulSoup(text, 'html.parser').get_text()\n",
    "#     text = text.decode('utf-8') \n",
    "    # regex for matching emoticons, keep emoticons, ex: :), :-P, :-D\n",
    "    r = '(?::|;|=|X)(?:-)?(?:\\)|\\(|D|P)'\n",
    "    emoticons = re.findall(r, text)\n",
    "    text = re.sub(r, '', text)\n",
    "    \n",
    "    # convert to lowercase and append all emoticons behind (with space in between)\n",
    "    # replace('-','') removes nose of emoticons\n",
    "    text = re.sub('[\\W]+', ' ', text.lower()) + ' ' + ' '.join(emoticons).replace('-','')\n",
    "    return text\n",
    "\n",
    "def tokenizer_stem_nostop(text):\n",
    "    porter = PorterStemmer()\n",
    "    return [porter.stem(w) for w in re.split('\\s+', text.strip())\n",
    "            if w not in stop and re.match('[a-zA-Z]+', w)]"
   ]
  },
  {
   "cell_type": "code",
   "execution_count": 7,
   "metadata": {},
   "outputs": [],
   "source": [
    "######################\n",
    "# custom transformer for sklearn pipeline\n",
    "class ColumnExtractor(TransformerMixin, BaseEstimator):\n",
    "    def __init__(self, cols_from, cols_to):\n",
    "        self.cols_from = cols_from\n",
    "        self.cols_to = cols_to\n",
    "\n",
    "    def transform(self, X):\n",
    "        col_data = pd.DataFrame()\n",
    "        col_data = X.iloc[:, self.cols_from:self.cols_to]\n",
    "#         print(\"shape = \",col_data.shape)\n",
    "#         print(\"data = \",col_data)\n",
    "        return col_data.values\n",
    "#     return col_data[\"feature\"]\n",
    "\n",
    "    def fit(self, X, y=None):\n",
    "        return self"
   ]
  },
  {
   "cell_type": "code",
   "execution_count": 8,
   "metadata": {},
   "outputs": [
    {
     "name": "stdout",
     "output_type": "stream",
     "text": [
      "title: 0.528 (+/-0.015)\n",
      "Misclassified samples: 2718\n",
      "Accuracy: 0.5084\n",
      "content: 0.538 (+/-0.012)\n",
      "Misclassified samples: 2687\n",
      "Accuracy: 0.5140\n",
      "tag: 0.542 (+/-0.012)\n",
      "Misclassified samples: 2694\n",
      "Accuracy: 0.5128\n"
     ]
    }
   ],
   "source": [
    "# tags\n",
    "pipe_title = Pipeline([\n",
    "                    ('col_extract', ColumnExtractor( cols_from=0, cols_to=1 )),\n",
    "                    ('vect', TfidfVectorizer(preprocessor=preprocessor, tokenizer=tokenizer_stem_nostop) ), \n",
    "                    ('clf', RandomForestClassifier(n_estimators=600, max_depth=5, n_jobs=-1))\n",
    "                ])\n",
    "pipe_content = Pipeline([\n",
    "                    ('col_extract', ColumnExtractor( cols_from=1, cols_to=2 )),\n",
    "                    ('vect', TfidfVectorizer(preprocessor=preprocessor, tokenizer=tokenizer_stem_nostop) ), \n",
    "                    ('clf', RandomForestClassifier(n_estimators=600, max_depth=5, n_jobs=-1))\n",
    "                ])\n",
    "pipe_tag = Pipeline([\n",
    "                    ('col_extract', ColumnExtractor( cols_from=2, cols_to=3 )),\n",
    "                    ('vect', TfidfVectorizer(preprocessor=preprocessor, tokenizer=tokenizer_stem_nostop) ), \n",
    "                    ('clf', RandomForestClassifier(n_estimators=600, max_depth=5, n_jobs=-1))\n",
    "                ])\n",
    "names = ['title','content','tag']\n",
    "for name, clf in zip(names, [pipe_title, pipe_content, pipe_tag]):\n",
    "    scores = cross_val_score(estimator=clf, X=X_train, y=y_train,\n",
    "                         cv=10, scoring='roc_auc')\n",
    "    print('%s: %.3f (+/-%.3f)' % (name, scores.mean(), scores.std()))\n",
    "    clf.fit(X_train, y_train)\n",
    "    y_pred = clf.predict(X_test)\n",
    "    train_data[name] = clf.predict_proba(train_data)\n",
    "    print('Misclassified samples: %d' % ((y_test != y_pred).sum()))\n",
    "    print('Accuracy: %.4f' % accuracy_score(y_test, y_pred))\n",
    "  "
   ]
  },
  {
   "cell_type": "code",
   "execution_count": 9,
   "metadata": {},
   "outputs": [],
   "source": [
    "X_train, X_test, y_train, y_test = train_test_split(train_data, train_label['Popularity'].astype('int'), test_size=0.2, random_state=0)\n"
   ]
  },
  {
   "cell_type": "code",
   "execution_count": 21,
   "metadata": {},
   "outputs": [
    {
     "name": "stdout",
     "output_type": "stream",
     "text": [
      "[=======pipe1, pipe2========]\n",
      "[auc (10-fold cv)]\n",
      "pipe1: 0.803 (+/-0.011)\n",
      "Misclassified samples: 2618\n",
      "Accuracy: 0.5265\n",
      "pipe2: 0.803 (+/-0.011)\n",
      "Misclassified samples: 2613\n",
      "Accuracy: 0.5274\n",
      "pipe3: 0.744 (+/-0.011)\n",
      "Misclassified samples: 2638\n",
      "Accuracy: 0.5229\n",
      "pipe4: 0.759 (+/-0.012)\n",
      "Misclassified samples: 2609\n",
      "Accuracy: 0.5281\n",
      "pipe5: 0.818 (+/-0.009)\n",
      "Misclassified samples: 2612\n",
      "Accuracy: 0.5276\n"
     ]
    }
   ],
   "source": [
    "from sklearn.naive_bayes import GaussianNB\n",
    "pipe1 = Pipeline([ \n",
    "                    ('sc', StandardScaler()),\n",
    "                    (\"imr\", SimpleImputer(missing_values = np.NaN, strategy = 'most_frequent')),\n",
    "                    ('clf', RandomForestClassifier(n_estimators=400, max_depth=5, n_jobs=-1))\n",
    "                ])\n",
    "pipe2 = Pipeline([ \n",
    "                    ('sc', StandardScaler()),\n",
    "                    (\"imr\", SimpleImputer(missing_values = np.NaN, strategy = 'most_frequent')),\n",
    "                    ('clf', RandomForestClassifier(n_estimators=600, max_depth=5, n_jobs=-1))\n",
    "                ])\n",
    "# channel,fig_count, link_count, weekday\n",
    "pipe3 = Pipeline([\n",
    "                    ('sc', StandardScaler()),\n",
    "                    (\"imr\", SimpleImputer(missing_values = np.NaN, strategy = 'most_frequent')),\n",
    "                    ('clf',  KNeighborsClassifier(n_neighbors = 5))\n",
    "                ])\n",
    "pipe4 = Pipeline([ \n",
    "                    ('sc', StandardScaler()),\n",
    "                    (\"imr\", SimpleImputer(missing_values = np.NaN, strategy = 'most_frequent')),\n",
    "                    ('clf',  GaussianNB())\n",
    "                ])\n",
    "pipe5 = Pipeline([ \n",
    "                    ('sc', StandardScaler()),\n",
    "                    (\"imr\", SimpleImputer(missing_values = np.NaN, strategy = 'most_frequent')),\n",
    "                    ('clf', RandomForestClassifier(n_estimators=800, max_depth=10, n_jobs=-1))\n",
    "                ])\n",
    "\n",
    "print(\"[=======pipe1, pipe2========]\")\n",
    "\n",
    "names = ['pipe1','pipe2','pipe3','pipe4','pipe5']\n",
    "print('[auc (10-fold cv)]')\n",
    "best_clf , best_sc = None, -1\n",
    "for name, clf in zip(names, [pipe1, pipe2, pipe3, pipe4, pipe5]):\n",
    "    scores = cross_val_score(estimator=clf, X=X_train, y=y_train,\n",
    "                         cv=10, scoring='roc_auc')\n",
    "    print('%s: %.3f (+/-%.3f)' % (name, scores.mean(), scores.std()))\n",
    "    clf.fit(X_train, y_train)\n",
    "    y_pred = clf.predict(X_test)\n",
    "    print('Misclassified samples: %d' % ((y_test != y_pred).sum()))\n",
    "    print('Accuracy: %.4f' % accuracy_score(y_test, y_pred))\n",
    "    if best_sc < scores.mean():\n",
    "        best_clf, best_sc = clf, scores.mean()"
   ]
  },
  {
   "cell_type": "code",
   "execution_count": 25,
   "metadata": {},
   "outputs": [
    {
     "name": "stdout",
     "output_type": "stream",
     "text": [
      "Misclassified samples: 2612\n",
      "Accuracy: 0.5276\n"
     ]
    },
    {
     "data": {
      "image/png": "[encoded data removed]",
      "text/plain": [
       "<Figure size 432x288 with 1 Axes>"
      ]
     },
     "metadata": {
      "needs_background": "light"
     },
     "output_type": "display_data"
    },
    {
     "name": "stdout",
     "output_type": "stream",
     "text": [
      "AUC: 0.5450\n"
     ]
    }
   ],
   "source": [
    "import matplotlib.pyplot as plt\n",
    "proba = best_clf.predict_proba(X_test)\n",
    "y_pred = best_clf.predict(X_test)\n",
    "print('Misclassified samples: %d' % ((y_test != y_pred).sum()))\n",
    "print('Accuracy: %.4f' % accuracy_score(y_test, y_pred))\n",
    "## we use feature 1 as positive label\n",
    "fpr, tpr, thresholds = roc_curve(y_test,\n",
    "                                 proba[:, 1],\n",
    "                                pos_label=1)\n",
    "\n",
    "plt.plot(fpr, tpr, lw=2,\n",
    "         label='Voting Classfier')\n",
    "    \n",
    "plt.plot([0, 1],\n",
    "         [0, 1],\n",
    "         linestyle='--',\n",
    "         color='gray',\n",
    "         label='Random guessing')\n",
    "\n",
    "plt.plot([0, 0, 1],\n",
    "         [0, 1, 1],\n",
    "         linestyle='-.',\n",
    "         alpha=0.5,\n",
    "         color='red',\n",
    "         label='Perfect')\n",
    "\n",
    "plt.xlim([-0.05, 1.05])\n",
    "plt.ylim([-0.05, 1.05])\n",
    "plt.xlabel('FPR')\n",
    "plt.ylabel('TPR')\n",
    "plt.title('ROC Curve')\n",
    "plt.legend(loc=\"lower right\")\n",
    "plt.tight_layout()\n",
    "plt.legend(loc=4, prop={'size': 18})\n",
    "plt.show()\n",
    "print('AUC: %.4f' % auc(fpr, tpr))"
   ]
  },
  {
   "cell_type": "code",
   "execution_count": 26,
   "metadata": {},
   "outputs": [
    {
     "name": "stderr",
     "output_type": "stream",
     "text": [
      "Progress: 100% |#################################################|Time: 0:04:22\n"
     ]
    },
    {
     "ename": "TypeError",
     "evalue": "cannot use a string pattern on a bytes-like object",
     "output_type": "error",
     "traceback": [
      "\u001b[0;31m---------------------------------------------------------------------------\u001b[0m",
      "\u001b[0;31mTypeError\u001b[0m                                 Traceback (most recent call last)",
      "\u001b[0;32m<ipython-input-26-79ecbe3276dd>\u001b[0m in \u001b[0;36m<module>\u001b[0;34m\u001b[0m\n\u001b[1;32m     25\u001b[0m \u001b[0;31m#                          cv=10, scoring='roc_auc')\u001b[0m\u001b[0;34m\u001b[0m\u001b[0;34m\u001b[0m\u001b[0;34m\u001b[0m\u001b[0m\n\u001b[1;32m     26\u001b[0m \u001b[0;31m#     print('%s: %.3f (+/-%.3f)' % (name, scores.mean(), scores.std()))\u001b[0m\u001b[0;34m\u001b[0m\u001b[0;34m\u001b[0m\u001b[0;34m\u001b[0m\u001b[0m\n\u001b[0;32m---> 27\u001b[0;31m     \u001b[0mclf\u001b[0m\u001b[0;34m.\u001b[0m\u001b[0mfit\u001b[0m\u001b[0;34m(\u001b[0m\u001b[0mX_train\u001b[0m\u001b[0;34m,\u001b[0m \u001b[0my_train\u001b[0m\u001b[0;34m)\u001b[0m\u001b[0;34m\u001b[0m\u001b[0;34m\u001b[0m\u001b[0m\n\u001b[0m\u001b[1;32m     28\u001b[0m \u001b[0;31m#     y_pred = clf.predict(X_test)\u001b[0m\u001b[0;34m\u001b[0m\u001b[0;34m\u001b[0m\u001b[0;34m\u001b[0m\u001b[0m\n\u001b[1;32m     29\u001b[0m     \u001b[0mtest_data\u001b[0m\u001b[0;34m[\u001b[0m\u001b[0mname\u001b[0m\u001b[0;34m]\u001b[0m \u001b[0;34m=\u001b[0m \u001b[0mclf\u001b[0m\u001b[0;34m.\u001b[0m\u001b[0mpredict_proba\u001b[0m\u001b[0;34m(\u001b[0m\u001b[0mtest_data\u001b[0m\u001b[0;34m)\u001b[0m\u001b[0;34m\u001b[0m\u001b[0;34m\u001b[0m\u001b[0m\n",
      "\u001b[0;32m~/.local/lib/python3.7/site-packages/sklearn/pipeline.py\u001b[0m in \u001b[0;36mfit\u001b[0;34m(self, X, y, **fit_params)\u001b[0m\n\u001b[1;32m    350\u001b[0m             \u001b[0mThis\u001b[0m \u001b[0mestimator\u001b[0m\u001b[0;34m\u001b[0m\u001b[0;34m\u001b[0m\u001b[0m\n\u001b[1;32m    351\u001b[0m         \"\"\"\n\u001b[0;32m--> 352\u001b[0;31m         \u001b[0mXt\u001b[0m\u001b[0;34m,\u001b[0m \u001b[0mfit_params\u001b[0m \u001b[0;34m=\u001b[0m \u001b[0mself\u001b[0m\u001b[0;34m.\u001b[0m\u001b[0m_fit\u001b[0m\u001b[0;34m(\u001b[0m\u001b[0mX\u001b[0m\u001b[0;34m,\u001b[0m \u001b[0my\u001b[0m\u001b[0;34m,\u001b[0m \u001b[0;34m**\u001b[0m\u001b[0mfit_params\u001b[0m\u001b[0;34m)\u001b[0m\u001b[0;34m\u001b[0m\u001b[0;34m\u001b[0m\u001b[0m\n\u001b[0m\u001b[1;32m    353\u001b[0m         with _print_elapsed_time('Pipeline',\n\u001b[1;32m    354\u001b[0m                                  self._log_message(len(self.steps) - 1)):\n",
      "\u001b[0;32m~/.local/lib/python3.7/site-packages/sklearn/pipeline.py\u001b[0m in \u001b[0;36m_fit\u001b[0;34m(self, X, y, **fit_params)\u001b[0m\n\u001b[1;32m    315\u001b[0m                 \u001b[0mmessage_clsname\u001b[0m\u001b[0;34m=\u001b[0m\u001b[0;34m'Pipeline'\u001b[0m\u001b[0;34m,\u001b[0m\u001b[0;34m\u001b[0m\u001b[0;34m\u001b[0m\u001b[0m\n\u001b[1;32m    316\u001b[0m                 \u001b[0mmessage\u001b[0m\u001b[0;34m=\u001b[0m\u001b[0mself\u001b[0m\u001b[0;34m.\u001b[0m\u001b[0m_log_message\u001b[0m\u001b[0;34m(\u001b[0m\u001b[0mstep_idx\u001b[0m\u001b[0;34m)\u001b[0m\u001b[0;34m,\u001b[0m\u001b[0;34m\u001b[0m\u001b[0;34m\u001b[0m\u001b[0m\n\u001b[0;32m--> 317\u001b[0;31m                 **fit_params_steps[name])\n\u001b[0m\u001b[1;32m    318\u001b[0m             \u001b[0;31m# Replace the transformer of the step with the fitted\u001b[0m\u001b[0;34m\u001b[0m\u001b[0;34m\u001b[0m\u001b[0;34m\u001b[0m\u001b[0m\n\u001b[1;32m    319\u001b[0m             \u001b[0;31m# transformer. This is necessary when loading the transformer\u001b[0m\u001b[0;34m\u001b[0m\u001b[0;34m\u001b[0m\u001b[0;34m\u001b[0m\u001b[0m\n",
      "\u001b[0;32m~/.local/lib/python3.7/site-packages/joblib/memory.py\u001b[0m in \u001b[0;36m__call__\u001b[0;34m(self, *args, **kwargs)\u001b[0m\n\u001b[1;32m    350\u001b[0m \u001b[0;34m\u001b[0m\u001b[0m\n\u001b[1;32m    351\u001b[0m     \u001b[0;32mdef\u001b[0m \u001b[0m__call__\u001b[0m\u001b[0;34m(\u001b[0m\u001b[0mself\u001b[0m\u001b[0;34m,\u001b[0m \u001b[0;34m*\u001b[0m\u001b[0margs\u001b[0m\u001b[0;34m,\u001b[0m \u001b[0;34m**\u001b[0m\u001b[0mkwargs\u001b[0m\u001b[0;34m)\u001b[0m\u001b[0;34m:\u001b[0m\u001b[0;34m\u001b[0m\u001b[0;34m\u001b[0m\u001b[0m\n\u001b[0;32m--> 352\u001b[0;31m         \u001b[0;32mreturn\u001b[0m \u001b[0mself\u001b[0m\u001b[0;34m.\u001b[0m\u001b[0mfunc\u001b[0m\u001b[0;34m(\u001b[0m\u001b[0;34m*\u001b[0m\u001b[0margs\u001b[0m\u001b[0;34m,\u001b[0m \u001b[0;34m**\u001b[0m\u001b[0mkwargs\u001b[0m\u001b[0;34m)\u001b[0m\u001b[0;34m\u001b[0m\u001b[0;34m\u001b[0m\u001b[0m\n\u001b[0m\u001b[1;32m    353\u001b[0m \u001b[0;34m\u001b[0m\u001b[0m\n\u001b[1;32m    354\u001b[0m     \u001b[0;32mdef\u001b[0m \u001b[0mcall_and_shelve\u001b[0m\u001b[0;34m(\u001b[0m\u001b[0mself\u001b[0m\u001b[0;34m,\u001b[0m \u001b[0;34m*\u001b[0m\u001b[0margs\u001b[0m\u001b[0;34m,\u001b[0m \u001b[0;34m**\u001b[0m\u001b[0mkwargs\u001b[0m\u001b[0;34m)\u001b[0m\u001b[0;34m:\u001b[0m\u001b[0;34m\u001b[0m\u001b[0;34m\u001b[0m\u001b[0m\n",
      "\u001b[0;32m~/.local/lib/python3.7/site-packages/sklearn/pipeline.py\u001b[0m in \u001b[0;36m_fit_transform_one\u001b[0;34m(transformer, X, y, weight, message_clsname, message, **fit_params)\u001b[0m\n\u001b[1;32m    714\u001b[0m     \u001b[0;32mwith\u001b[0m \u001b[0m_print_elapsed_time\u001b[0m\u001b[0;34m(\u001b[0m\u001b[0mmessage_clsname\u001b[0m\u001b[0;34m,\u001b[0m \u001b[0mmessage\u001b[0m\u001b[0;34m)\u001b[0m\u001b[0;34m:\u001b[0m\u001b[0;34m\u001b[0m\u001b[0;34m\u001b[0m\u001b[0m\n\u001b[1;32m    715\u001b[0m         \u001b[0;32mif\u001b[0m \u001b[0mhasattr\u001b[0m\u001b[0;34m(\u001b[0m\u001b[0mtransformer\u001b[0m\u001b[0;34m,\u001b[0m \u001b[0;34m'fit_transform'\u001b[0m\u001b[0;34m)\u001b[0m\u001b[0;34m:\u001b[0m\u001b[0;34m\u001b[0m\u001b[0;34m\u001b[0m\u001b[0m\n\u001b[0;32m--> 716\u001b[0;31m             \u001b[0mres\u001b[0m \u001b[0;34m=\u001b[0m \u001b[0mtransformer\u001b[0m\u001b[0;34m.\u001b[0m\u001b[0mfit_transform\u001b[0m\u001b[0;34m(\u001b[0m\u001b[0mX\u001b[0m\u001b[0;34m,\u001b[0m \u001b[0my\u001b[0m\u001b[0;34m,\u001b[0m \u001b[0;34m**\u001b[0m\u001b[0mfit_params\u001b[0m\u001b[0;34m)\u001b[0m\u001b[0;34m\u001b[0m\u001b[0;34m\u001b[0m\u001b[0m\n\u001b[0m\u001b[1;32m    717\u001b[0m         \u001b[0;32melse\u001b[0m\u001b[0;34m:\u001b[0m\u001b[0;34m\u001b[0m\u001b[0;34m\u001b[0m\u001b[0m\n\u001b[1;32m    718\u001b[0m             \u001b[0mres\u001b[0m \u001b[0;34m=\u001b[0m \u001b[0mtransformer\u001b[0m\u001b[0;34m.\u001b[0m\u001b[0mfit\u001b[0m\u001b[0;34m(\u001b[0m\u001b[0mX\u001b[0m\u001b[0;34m,\u001b[0m \u001b[0my\u001b[0m\u001b[0;34m,\u001b[0m \u001b[0;34m**\u001b[0m\u001b[0mfit_params\u001b[0m\u001b[0;34m)\u001b[0m\u001b[0;34m.\u001b[0m\u001b[0mtransform\u001b[0m\u001b[0;34m(\u001b[0m\u001b[0mX\u001b[0m\u001b[0;34m)\u001b[0m\u001b[0;34m\u001b[0m\u001b[0;34m\u001b[0m\u001b[0m\n",
      "\u001b[0;32m~/.local/lib/python3.7/site-packages/sklearn/feature_extraction/text.py\u001b[0m in \u001b[0;36mfit_transform\u001b[0;34m(self, raw_documents, y)\u001b[0m\n\u001b[1;32m   1650\u001b[0m         \"\"\"\n\u001b[1;32m   1651\u001b[0m         \u001b[0mself\u001b[0m\u001b[0;34m.\u001b[0m\u001b[0m_check_params\u001b[0m\u001b[0;34m(\u001b[0m\u001b[0;34m)\u001b[0m\u001b[0;34m\u001b[0m\u001b[0;34m\u001b[0m\u001b[0m\n\u001b[0;32m-> 1652\u001b[0;31m         \u001b[0mX\u001b[0m \u001b[0;34m=\u001b[0m \u001b[0msuper\u001b[0m\u001b[0;34m(\u001b[0m\u001b[0;34m)\u001b[0m\u001b[0;34m.\u001b[0m\u001b[0mfit_transform\u001b[0m\u001b[0;34m(\u001b[0m\u001b[0mraw_documents\u001b[0m\u001b[0;34m)\u001b[0m\u001b[0;34m\u001b[0m\u001b[0;34m\u001b[0m\u001b[0m\n\u001b[0m\u001b[1;32m   1653\u001b[0m         \u001b[0mself\u001b[0m\u001b[0;34m.\u001b[0m\u001b[0m_tfidf\u001b[0m\u001b[0;34m.\u001b[0m\u001b[0mfit\u001b[0m\u001b[0;34m(\u001b[0m\u001b[0mX\u001b[0m\u001b[0;34m)\u001b[0m\u001b[0;34m\u001b[0m\u001b[0;34m\u001b[0m\u001b[0m\n\u001b[1;32m   1654\u001b[0m         \u001b[0;31m# X is already a transformed view of raw_documents so\u001b[0m\u001b[0;34m\u001b[0m\u001b[0;34m\u001b[0m\u001b[0;34m\u001b[0m\u001b[0m\n",
      "\u001b[0;32m~/.local/lib/python3.7/site-packages/sklearn/feature_extraction/text.py\u001b[0m in \u001b[0;36mfit_transform\u001b[0;34m(self, raw_documents, y)\u001b[0m\n\u001b[1;32m   1056\u001b[0m \u001b[0;34m\u001b[0m\u001b[0m\n\u001b[1;32m   1057\u001b[0m         vocabulary, X = self._count_vocab(raw_documents,\n\u001b[0;32m-> 1058\u001b[0;31m                                           self.fixed_vocabulary_)\n\u001b[0m\u001b[1;32m   1059\u001b[0m \u001b[0;34m\u001b[0m\u001b[0m\n\u001b[1;32m   1060\u001b[0m         \u001b[0;32mif\u001b[0m \u001b[0mself\u001b[0m\u001b[0;34m.\u001b[0m\u001b[0mbinary\u001b[0m\u001b[0;34m:\u001b[0m\u001b[0;34m\u001b[0m\u001b[0;34m\u001b[0m\u001b[0m\n",
      "\u001b[0;32m~/.local/lib/python3.7/site-packages/sklearn/feature_extraction/text.py\u001b[0m in \u001b[0;36m_count_vocab\u001b[0;34m(self, raw_documents, fixed_vocab)\u001b[0m\n\u001b[1;32m    968\u001b[0m         \u001b[0;32mfor\u001b[0m \u001b[0mdoc\u001b[0m \u001b[0;32min\u001b[0m \u001b[0mraw_documents\u001b[0m\u001b[0;34m:\u001b[0m\u001b[0;34m\u001b[0m\u001b[0;34m\u001b[0m\u001b[0m\n\u001b[1;32m    969\u001b[0m             \u001b[0mfeature_counter\u001b[0m \u001b[0;34m=\u001b[0m \u001b[0;34m{\u001b[0m\u001b[0;34m}\u001b[0m\u001b[0;34m\u001b[0m\u001b[0;34m\u001b[0m\u001b[0m\n\u001b[0;32m--> 970\u001b[0;31m             \u001b[0;32mfor\u001b[0m \u001b[0mfeature\u001b[0m \u001b[0;32min\u001b[0m \u001b[0manalyze\u001b[0m\u001b[0;34m(\u001b[0m\u001b[0mdoc\u001b[0m\u001b[0;34m)\u001b[0m\u001b[0;34m:\u001b[0m\u001b[0;34m\u001b[0m\u001b[0;34m\u001b[0m\u001b[0m\n\u001b[0m\u001b[1;32m    971\u001b[0m                 \u001b[0;32mtry\u001b[0m\u001b[0;34m:\u001b[0m\u001b[0;34m\u001b[0m\u001b[0;34m\u001b[0m\u001b[0m\n\u001b[1;32m    972\u001b[0m                     \u001b[0mfeature_idx\u001b[0m \u001b[0;34m=\u001b[0m \u001b[0mvocabulary\u001b[0m\u001b[0;34m[\u001b[0m\u001b[0mfeature\u001b[0m\u001b[0;34m]\u001b[0m\u001b[0;34m\u001b[0m\u001b[0;34m\u001b[0m\u001b[0m\n",
      "\u001b[0;32m~/.local/lib/python3.7/site-packages/sklearn/feature_extraction/text.py\u001b[0m in \u001b[0;36m<lambda>\u001b[0;34m(doc)\u001b[0m\n\u001b[1;32m    350\u001b[0m                                                tokenize)\n\u001b[1;32m    351\u001b[0m             return lambda doc: self._word_ngrams(\n\u001b[0;32m--> 352\u001b[0;31m                 tokenize(preprocess(self.decode(doc))), stop_words)\n\u001b[0m\u001b[1;32m    353\u001b[0m \u001b[0;34m\u001b[0m\u001b[0m\n\u001b[1;32m    354\u001b[0m         \u001b[0;32melse\u001b[0m\u001b[0;34m:\u001b[0m\u001b[0;34m\u001b[0m\u001b[0;34m\u001b[0m\u001b[0m\n",
      "\u001b[0;32m<ipython-input-6-86f59e9e8a32>\u001b[0m in \u001b[0;36mpreprocessor\u001b[0;34m(text)\u001b[0m\n\u001b[1;32m     12\u001b[0m     \u001b[0;31m# regex for matching emoticons, keep emoticons, ex: :), :-P, :-D\u001b[0m\u001b[0;34m\u001b[0m\u001b[0;34m\u001b[0m\u001b[0;34m\u001b[0m\u001b[0m\n\u001b[1;32m     13\u001b[0m     \u001b[0mr\u001b[0m \u001b[0;34m=\u001b[0m \u001b[0;34m'(?::|;|=|X)(?:-)?(?:\\)|\\(|D|P)'\u001b[0m\u001b[0;34m\u001b[0m\u001b[0;34m\u001b[0m\u001b[0m\n\u001b[0;32m---> 14\u001b[0;31m     \u001b[0memoticons\u001b[0m \u001b[0;34m=\u001b[0m \u001b[0mre\u001b[0m\u001b[0;34m.\u001b[0m\u001b[0mfindall\u001b[0m\u001b[0;34m(\u001b[0m\u001b[0mr\u001b[0m\u001b[0;34m,\u001b[0m \u001b[0mtext\u001b[0m\u001b[0;34m)\u001b[0m\u001b[0;34m\u001b[0m\u001b[0;34m\u001b[0m\u001b[0m\n\u001b[0m\u001b[1;32m     15\u001b[0m     \u001b[0mtext\u001b[0m \u001b[0;34m=\u001b[0m \u001b[0mre\u001b[0m\u001b[0;34m.\u001b[0m\u001b[0msub\u001b[0m\u001b[0;34m(\u001b[0m\u001b[0mr\u001b[0m\u001b[0;34m,\u001b[0m \u001b[0;34m''\u001b[0m\u001b[0;34m,\u001b[0m \u001b[0mtext\u001b[0m\u001b[0;34m)\u001b[0m\u001b[0;34m\u001b[0m\u001b[0;34m\u001b[0m\u001b[0m\n\u001b[1;32m     16\u001b[0m \u001b[0;34m\u001b[0m\u001b[0m\n",
      "\u001b[0;32m/usr/lib/python3.7/re.py\u001b[0m in \u001b[0;36mfindall\u001b[0;34m(pattern, string, flags)\u001b[0m\n\u001b[1;32m    221\u001b[0m \u001b[0;34m\u001b[0m\u001b[0m\n\u001b[1;32m    222\u001b[0m     Empty matches are included in the result.\"\"\"\n\u001b[0;32m--> 223\u001b[0;31m     \u001b[0;32mreturn\u001b[0m \u001b[0m_compile\u001b[0m\u001b[0;34m(\u001b[0m\u001b[0mpattern\u001b[0m\u001b[0;34m,\u001b[0m \u001b[0mflags\u001b[0m\u001b[0;34m)\u001b[0m\u001b[0;34m.\u001b[0m\u001b[0mfindall\u001b[0m\u001b[0;34m(\u001b[0m\u001b[0mstring\u001b[0m\u001b[0;34m)\u001b[0m\u001b[0;34m\u001b[0m\u001b[0;34m\u001b[0m\u001b[0m\n\u001b[0m\u001b[1;32m    224\u001b[0m \u001b[0;34m\u001b[0m\u001b[0m\n\u001b[1;32m    225\u001b[0m \u001b[0;32mdef\u001b[0m \u001b[0mfinditer\u001b[0m\u001b[0;34m(\u001b[0m\u001b[0mpattern\u001b[0m\u001b[0;34m,\u001b[0m \u001b[0mstring\u001b[0m\u001b[0;34m,\u001b[0m \u001b[0mflags\u001b[0m\u001b[0;34m=\u001b[0m\u001b[0;36m0\u001b[0m\u001b[0;34m)\u001b[0m\u001b[0;34m:\u001b[0m\u001b[0;34m\u001b[0m\u001b[0;34m\u001b[0m\u001b[0m\n",
      "\u001b[0;31mTypeError\u001b[0m: cannot use a string pattern on a bytes-like object"
     ]
    }
   ],
   "source": [
    "df_real = pd.read_csv('./contest1_data/test.csv')\n",
    "\n",
    "test_data = pd.DataFrame(columns=[\"title\", \"content\", \"tag\", \"channel\", \"fig_count\", \"link_count\", \"weekday\",\"timestamp\"])\n",
    "pgbar = progressbar.ProgressBar(widgets=['Progress: ',progressbar.Percentage(), ' ', progressbar.Bar('#'), progressbar.ETA()])\n",
    "for i in pgbar(range(len(df))):\n",
    "    title, content, tag, channel,  fig_count, link_count, weekday, timestamp = data_preprocess(df.loc[i,'Page content'])\n",
    "    train_data = train_data.append({ \n",
    "                                    \"title\": title, \n",
    "                                    \"content\": content,\n",
    "                                    \"tag\":  tag,\n",
    "                                    \"channel\": channel, \n",
    "                                    \"fig_count\":  fig_count,\n",
    "                                    \"link_count\":  link_count,\n",
    "                                    \"weekday\":  weekday,\n",
    "                                    \"timestamp\":  timestamp\n",
    "                                    }, ignore_index=True)\n",
    "    \n",
    "test_data.head()\n",
    "label_le = LabelEncoder()\n",
    "test_data[\"channel\"] = label_le.fit_transform(test_data[\"channel\"].values)\n",
    "\n",
    "names = ['title','content','tag']\n",
    "for name, clf in zip(names, [pipe_title, pipe_content, pipe_tag]):\n",
    "#     scores = cross_val_score(estimator=clf, X=X_train, y=y_train,\n",
    "#                          cv=10, scoring='roc_auc')\n",
    "#     print('%s: %.3f (+/-%.3f)' % (name, scores.mean(), scores.std()))\n",
    "    clf.fit(X_train, y_train)\n",
    "#     y_pred = clf.predict(X_test)\n",
    "    test_data[name] = clf.predict_proba(test_data)\n",
    "#     print('Misclassified samples: %d' % ((y_test != y_pred).sum()))\n",
    "#     print('Accuracy: %.4f' % accuracy_score(y_test, y_pred))\n",
    "\n",
    "result = best_clf.predict_proba(test_data)\n",
    "out = pd.DataFrame({ 'Id': df_real.Id,'Popularity': result[:, 1]})\n",
    "out.to_csv('./pred.csv', index=False)"
   ]
  },
  {
   "cell_type": "code",
   "execution_count": null,
   "metadata": {},
   "outputs": [],
   "source": [
    "# proba = pipe2.predict_proba(X_test)\n",
    "# ## we use feature 1 as positive label\n",
    "# fpr, tpr, thresholds = roc_curve(y_test,\n",
    "#                                  proba[:, 1],\n",
    "#                                 pos_label=1)\n",
    "\n",
    "# plt.plot(fpr, tpr, lw=2,\n",
    "#          label='Voting Classfier')\n",
    "    \n",
    "# plt.plot([0, 1],\n",
    "#          [0, 1],\n",
    "#          linestyle='--',\n",
    "#          color='gray',\n",
    "#          label='Random guessing')\n",
    "\n",
    "# plt.plot([0, 0, 1],\n",
    "#          [0, 1, 1],\n",
    "#          linestyle='-.',\n",
    "#          alpha=0.5,\n",
    "#          color='red',\n",
    "#          label='Perfect')\n",
    "\n",
    "# plt.xlim([-0.05, 1.05])\n",
    "# plt.ylim([-0.05, 1.05])\n",
    "# plt.xlabel('FPR')\n",
    "# plt.ylabel('TPR')\n",
    "# plt.title('ROC Curve')\n",
    "# plt.legend(loc=\"lower right\")\n",
    "# plt.tight_layout()\n",
    "# plt.legend(loc=4, prop={'size': 18})\n",
    "# plt.show()\n",
    "# print('AUC: %.4f' % auc(fpr, tpr))"
   ]
  }
 ],
 "metadata": {
  "kernelspec": {
   "display_name": "Python 3",
   "language": "python",
   "name": "python3"
  },
  "language_info": {
   "codemirror_mode": {
    "name": "ipython",
    "version": 3
   },
   "file_extension": ".py",
   "mimetype": "text/x-python",
   "name": "python",
   "nbconvert_exporter": "python",
   "pygments_lexer": "ipython3",
   "version": "3.7.5"
  }
 },
 "nbformat": 4,
 "nbformat_minor": 4
}
