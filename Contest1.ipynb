{
 "cells": [
  {
   "cell_type": "code",
   "execution_count": 1,
   "metadata": {},
   "outputs": [
    {
     "name": "stdout",
     "output_type": "stream",
     "text": [
      "   Id  Popularity                                       Page content\n",
      "0   0          -1  <html><head><div class=\"article-info\"> <span c...\n",
      "1   1           1  <html><head><div class=\"article-info\"><span cl...\n",
      "2   2           1  <html><head><div class=\"article-info\"><span cl...\n",
      "3   3          -1  <html><head><div class=\"article-info\"><span cl...\n",
      "4   4          -1  <html><head><div class=\"article-info\"><span cl...\n"
     ]
    }
   ],
   "source": [
    "%matplotlib inline\n",
    "\n",
    "import pandas as pd\n",
    "\n",
    "df = pd.read_csv('./contest1_data/train.csv')\n",
    "print(df.head(5))"
   ]
  },
  {
   "cell_type": "code",
   "execution_count": 4,
   "metadata": {},
   "outputs": [
    {
     "name": "stderr",
     "output_type": "stream",
     "text": [
      "[nltk_data] Downloading package stopwords to /home/hhliao/nltk_data...\n",
      "[nltk_data]   Package stopwords is already up-to-date!\n"
     ]
    },
    {
     "name": "stdout",
     "output_type": "stream",
     "text": [
      "['i', 'me', 'my', 'myself', 'we', 'our', 'ours', 'ourselves', 'you', \"you're\", \"you've\", \"you'll\", \"you'd\", 'your', 'yours', 'yourself', 'yourselves', 'he', 'him', 'his', 'himself', 'she', \"she's\", 'her', 'hers', 'herself', 'it', \"it's\", 'its', 'itself', 'they', 'them', 'their', 'theirs', 'themselves', 'what', 'which', 'who', 'whom', 'this', 'that', \"that'll\", 'these', 'those', 'am', 'is', 'are', 'was', 'were', 'be', 'been', 'being', 'have', 'has', 'had', 'having', 'do', 'does', 'did', 'doing', 'a', 'an', 'the', 'and', 'but', 'if', 'or', 'because', 'as', 'until', 'while', 'of', 'at', 'by', 'for', 'with', 'about', 'against', 'between', 'into', 'through', 'during', 'before', 'after', 'above', 'below', 'to', 'from', 'up', 'down', 'in', 'out', 'on', 'off', 'over', 'under', 'again', 'further', 'then', 'once', 'here', 'there', 'when', 'where', 'why', 'how', 'all', 'any', 'both', 'each', 'few', 'more', 'most', 'other', 'some', 'such', 'no', 'nor', 'not', 'only', 'own', 'same', 'so', 'than', 'too', 'very', 's', 't', 'can', 'will', 'just', 'don', \"don't\", 'should', \"should've\", 'now', 'd', 'll', 'm', 'o', 're', 've', 'y', 'ain', 'aren', \"aren't\", 'couldn', \"couldn't\", 'didn', \"didn't\", 'doesn', \"doesn't\", 'hadn', \"hadn't\", 'hasn', \"hasn't\", 'haven', \"haven't\", 'isn', \"isn't\", 'ma', 'mightn', \"mightn't\", 'mustn', \"mustn't\", 'needn', \"needn't\", 'shan', \"shan't\", 'shouldn', \"shouldn't\", 'wasn', \"wasn't\", 'weren', \"weren't\", 'won', \"won't\", 'wouldn', \"wouldn't\"]\n",
      "13516    <html><head><div class=\"article-info\"><span cl...\n",
      "11607    <html><head><div class=\"article-info\"><span cl...\n",
      "11866    <html><head><div class=\"article-info\"><span cl...\n",
      "25540    <html><head><div class=\"article-info\"><span cl...\n",
      "26611    <html><head><div class=\"article-info\"><span cl...\n",
      "                               ...                        \n",
      "12673    <html><head><div class=\"article-info\"><span cl...\n",
      "14569    <html><head><div class=\"article-info\"><span cl...\n",
      "22266    <html><head><div class=\"article-info\"><span cl...\n",
      "19962    <html><head><div class=\"article-info\"><span cl...\n",
      "17686    <html><head><div class=\"article-info\"><span cl...\n",
      "Name: Page content, Length: 1000, dtype: object\n",
      "AUC: 0.522 (+/-0.050)\n"
     ]
    }
   ],
   "source": [
    "import re\n",
    "import bleach\n",
    "from bs4 import BeautifulSoup\n",
    "import numpy as np\n",
    "import nltk\n",
    "from nltk.corpus import stopwords\n",
    "from nltk.stem.porter import PorterStemmer\n",
    "\n",
    "\n",
    "nltk.download('stopwords')\n",
    "stop = stopwords.words('english')\n",
    "print(stop)\n",
    "# stop.append('image')\n",
    "# stop.append('data')\n",
    "# stop.append('see')\n",
    "# stop.append('also')\n",
    "# stop.append('video')\n",
    "\n",
    "\n",
    "def clean(text):\n",
    "    # remove HTML tags\n",
    "#     text = text.get_text()\n",
    "    text = BeautifulSoup(text, 'html.parser')\n",
    "    text2 = text.find(class_=\"article-content\").get_text()\n",
    "    text1 = text.find(class_=\"article-topics\").get_text()\n",
    "    text3 = text.find(class_=\"title\").get_text()\n",
    "    text = text1 + text2 + text3\n",
    "    # regex for matching emoticons, keep emoticons, ex: :), :-P, :-D\n",
    "    r = '(?::|;|=|X)(?:-)?(?:\\)|\\(|D|P)'\n",
    "    emoticons = re.findall(r, text)\n",
    "    text = re.sub(r, '', text)\n",
    "    \n",
    "    # convert to lowercase and append all emoticons behind (with space in between)\n",
    "    # replace('-','') removes nose of emoticons\n",
    "    text = re.sub('[\\W]+', ' ', text.lower()) + ' ' + ' '.join(emoticons).replace('-','')\n",
    "#     print(text)\n",
    "    return text\n",
    "\n",
    "def tokenizer_stem_nostop(text):\n",
    "    porter = PorterStemmer()\n",
    "    return [porter.stem(w) for w in re.split('\\s+', text.strip()) \\\n",
    "            if w not in stop and re.match('[a-zA-Z]+', w)]\n",
    "\n",
    "def preprocessor():\n",
    "    # remove urls\n",
    "#     text = BeautifulSoup(text, 'html.parser')\n",
    "    \n",
    "#     for a in text.findAll('a'):\n",
    "#         del a['href']\n",
    "     \n",
    "#     title = text.findAll(class_=\"title\")\n",
    "#     tags = text.find(class_=\"article-topics\")\n",
    "#     article_content = text.find(class_=\"article-content\")\n",
    "#     print('\\n\\n\\ntags = ', tags)\n",
    "#     print('title = ', title)\n",
    "#     print('article-content =', article_content)\n",
    "#     title = clean(title)\n",
    "#     tags = clean(tags)\n",
    "#     article_content = clean(article_content)\n",
    "    \n",
    "#     print('\\n\\n\\ntags = ', tags)\n",
    "#     print('title = ', title)\n",
    "#     print('article-content =', article_content)\n",
    "    \n",
    "#     title = tokenizer_stem_nostop(title)\n",
    "#     tags = tokenizer_stem_nostop(tags)\n",
    "#     article_content = tokenizer_stem_nostop(article_content)\n",
    "#     print('\\n\\n\\ntags = ', tags)\n",
    "#     print('title = ', title)\n",
    "#     print('article-content =', article_content)\n",
    "    \n",
    "#     print(text)\n",
    "    \n",
    "# #     df['Page content'] = text\n",
    "    doc = df['Page content'].iloc[:]\n",
    "    from sklearn.feature_extraction.text import TfidfVectorizer\n",
    "\n",
    "    tfidf = TfidfVectorizer(ngram_range=(1,1),\n",
    "                            preprocessor=clean,\n",
    "                            tokenizer=tokenizer_stem_nostop)\n",
    "\n",
    "    tfidf.fit(doc)\n",
    "\n",
    "    top = 10\n",
    "    # get idf score of vocabularies\n",
    "    idf = tfidf.idf_\n",
    "    print('[vocabularies with smallest idf scores]')\n",
    "    sorted_idx = idf.argsort()\n",
    "\n",
    "    for i in range(top):\n",
    "        print('%s: %.2f' %(tfidf.get_feature_names()[sorted_idx[i]], idf[sorted_idx[i]]))\n",
    "\n",
    "    doc_tfidf = tfidf.transform(doc).toarray()\n",
    "    tfidf_sum = np.sum(doc_tfidf, axis=0)\n",
    "    print(\"\\n[vocabularies with highest tf-idf scores]\")\n",
    "    for tok, v in zip(tfidf.inverse_transform(np.ones(tfidf_sum.shape[0]))[0][tfidf_sum.argsort()[::-1]][:top], \\\n",
    "                            np.sort(tfidf_sum)[::-1][:top]):\n",
    "        print('{}: {}'.format(tok, v))\n",
    "    \n",
    "    \n",
    "    \n",
    "#     return article_content\n",
    "#     return title, tags, article_content\n",
    "    \n",
    "# preprocess\n",
    "# for i in range(5):\n",
    "# preprocessor()\n",
    "#     Page_content = preprocessor(df.loc[i,'Page content'])\n",
    "#     df.loc[i,'Page content'] = Page_content\n",
    "#     df.loc[i,'tags'] = tags\n",
    "#     df.loc[i,'title'] = title\n",
    "from sklearn.feature_extraction.text import TfidfVectorizer\n",
    "from sklearn.pipeline import Pipeline\n",
    "from sklearn.tree import DecisionTreeClassifier\n",
    "from sklearn.linear_model import LogisticRegression\n",
    "from sklearn.feature_extraction.text import CountVectorizer\n",
    "from sklearn.model_selection import cross_val_score\n",
    "\n",
    "# randomly sample 1000 examples\n",
    "df_small = df.sample(n=1000, random_state=0)\n",
    "print(df_small['Page content'])\n",
    "pipe3 = Pipeline([('vect', TfidfVectorizer(preprocessor=clean, \n",
    "                                           tokenizer=tokenizer_stem_nostop)), \n",
    "                  ('clf', LogisticRegression(solver = \"liblinear\"))])\n",
    "# KNeighborsClassifier(n_neighbors=11, p=2, metric='minkowski')\n",
    "scores = cross_val_score(estimator=pipe3, X=df_small['Page content'], y=df_small['Popularity'], \\\n",
    "                         cv=10, scoring='roc_auc')\n",
    "\n",
    "print('AUC: %.3f (+/-%.3f)' % (scores.mean(), scores.std()))\n",
    "    \n",
    "    "
   ]
  },
  {
   "cell_type": "code",
   "execution_count": null,
   "metadata": {},
   "outputs": [],
   "source": []
  },
  {
   "cell_type": "code",
   "execution_count": 5,
   "metadata": {},
   "outputs": [
    {
     "name": "stdout",
     "output_type": "stream",
     "text": [
      "   Id  Popularity                                       Page content\n",
      "0   0          -1  <html><head><div class=\"article-info\"> <span c...\n",
      "1   1           1  <html><head><div class=\"article-info\"><span cl...\n",
      "2   2           1  <html><head><div class=\"article-info\"><span cl...\n",
      "3   3          -1  <html><head><div class=\"article-info\"><span cl...\n",
      "4   4          -1  <html><head><div class=\"article-info\"><span cl...\n"
     ]
    }
   ],
   "source": [
    "print(df.head(5))"
   ]
  },
  {
   "cell_type": "code",
   "execution_count": 6,
   "metadata": {},
   "outputs": [
    {
     "name": "stdout",
     "output_type": "stream",
     "text": [
      "['runners', 'like', 'running', 'and', 'thus', 'they', 'run']\n"
     ]
    }
   ],
   "source": [
    "def tokenizer(text):\n",
    "    return re.split('\\s+', text.strip())\n",
    "\n",
    "print(tokenizer('runners like running and thus they run'))"
   ]
  }
 ],
 "metadata": {
  "kernelspec": {
   "display_name": "Python 3",
   "language": "python",
   "name": "python3"
  },
  "language_info": {
   "codemirror_mode": {
    "name": "ipython",
    "version": 3
   },
   "file_extension": ".py",
   "mimetype": "text/x-python",
   "name": "python",
   "nbconvert_exporter": "python",
   "pygments_lexer": "ipython3",
   "version": "3.7.5"
  }
 },
 "nbformat": 4,
 "nbformat_minor": 4
}
